{
 "cells": [
  {
   "cell_type": "code",
   "execution_count": 1,
   "metadata": {},
   "outputs": [],
   "source": [
    "import json\n",
    "import pandas as pd\n",
    "\n",
    "from gretel_client.helpers.viz import FieldFilter, _start_field_filtering"
   ]
  },
  {
   "cell_type": "code",
   "execution_count": 2,
   "metadata": {},
   "outputs": [],
   "source": [
    "field_meta = json.loads(open('field_meta.json').read())\n",
    "field_ents = json.loads(open('field_ents.json').read())\n",
    "records = json.loads(open('records.json').read())"
   ]
  },
  {
   "cell_type": "code",
   "execution_count": 3,
   "metadata": {},
   "outputs": [
    {
     "data": {
      "text/markdown": [
       "\n",
       "## Field Selection\n",
       "\n",
       "Here you may choose which fields you include for synthetic data generation. Field selection happens sequentially\n",
       "through the various options below.\n",
       "\n",
       "First, you may narrow down fields based on how unique they are or how much missing data there is.\n",
       "\n",
       "Second, if you are only interested in specific entities, you may select those.\n",
       "\n",
       "The table below will automatically update to show you the fields that match your current selection.\n",
       "\n",
       "The field list based on initial filtering is available via the `data.fields` property. To export the final\n",
       "list you may call:\n",
       "\n",
       "```python\n",
       "target_fields = data.export_fields()\n",
       "```\n",
       "\n",
       "This will create a deep copy of the field list that you can manipulate freely.\n",
       "***\n"
      ],
      "text/plain": [
       "<IPython.core.display.Markdown object>"
      ]
     },
     "metadata": {},
     "output_type": "display_data"
    },
    {
     "data": {
      "application/vnd.jupyter.widget-view+json": {
       "model_id": "95bd7500e1954434b43c36af724aaf50",
       "version_major": 2,
       "version_minor": 0
      },
      "text/plain": [
       "VBox(children=(HBox(children=(FloatSlider(value=80.0, description='Max Unique %', step=1.0, style=SliderStyle(…"
      ]
     },
     "metadata": {},
     "output_type": "display_data"
    },
    {
     "data": {
      "application/vnd.jupyter.widget-view+json": {
       "model_id": "07667f0614c84a67a98416ef2e17888d",
       "version_major": 2,
       "version_minor": 0
      },
      "text/plain": [
       "Output()"
      ]
     },
     "metadata": {},
     "output_type": "display_data"
    }
   ],
   "source": [
    "data = FieldFilter()\n",
    "_start_field_filtering(field_meta, records, data)"
   ]
  },
  {
   "cell_type": "code",
   "execution_count": null,
   "metadata": {},
   "outputs": [],
   "source": [
    "target_fields = data.export_fields()"
   ]
  },
  {
   "cell_type": "code",
   "execution_count": null,
   "metadata": {},
   "outputs": [],
   "source": [
    "target_fields"
   ]
  }
 ],
 "metadata": {
  "kernelspec": {
   "display_name": "Python 3",
   "language": "python",
   "name": "python3"
  },
  "language_info": {
   "codemirror_mode": {
    "name": "ipython",
    "version": 3
   },
   "file_extension": ".py",
   "mimetype": "text/x-python",
   "name": "python",
   "nbconvert_exporter": "python",
   "pygments_lexer": "ipython3",
   "version": "3.7.5"
  }
 },
 "nbformat": 4,
 "nbformat_minor": 4
}
