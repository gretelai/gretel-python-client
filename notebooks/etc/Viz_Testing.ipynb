{
 "cells": [
  {
   "cell_type": "code",
   "execution_count": 1,
   "metadata": {},
   "outputs": [],
   "source": [
    "import json\n",
    "import pandas as pd\n",
    "\n",
    "from gretel_client.helpers.viz import FieldFilter, _start_field_filtering"
   ]
  },
  {
   "cell_type": "code",
   "execution_count": 2,
   "metadata": {},
   "outputs": [],
   "source": [
    "field_meta = json.loads(open('field_meta.json').read())\n",
    "field_ents = json.loads(open('field_ents.json').read())\n",
    "records = json.loads(open('records.json').read())"
   ]
  },
  {
   "cell_type": "code",
   "execution_count": 3,
   "metadata": {
    "scrolled": false
   },
   "outputs": [
    {
     "data": {
      "text/markdown": [
       "\n",
       "## Field Selection\n",
       "\n",
       "The widgets below provide an initial start on how you can filter out interesting fields from the\n",
       "Gretel Metastore.  These interesting fields can be used to build transformations and synthetic data.\n",
       "\n",
       "As you interact with the widgets the field table will adjust automatically. Additionally, the second\n",
       "table will show you a preview of your records based on these adjustments.\n",
       "\n",
       "### Quantative\n",
       "\n",
       "The two sliders below allow you to explore two metrics that are tracked for all fields discovered by Gretel.\n",
       "\n",
       "- How unique is the value of a field? The first slider lets you adjust the percent of uniqueness in a field.\n",
       "\n",
       "- How often is this field missing or null? The second slider lets you adjust what percent of a\n",
       "field does not have any data.\n",
       "\n",
       "\n",
       "### Qualatative\n",
       "\n",
       "Below the sliders, are checkboxes that represent entities which have been discovered in your data. Selecting\n",
       "certain entities will further filter the visible fields. You can see all of the entities for a given field\n",
       "under the `entities` column. Additional detail for each entity per-field can be explored via the REST API\n",
       "or gretel-client.\n",
       "\n",
       "\n",
       "### Additional Exploration\n",
       "\n",
       "To further explore the field metadata from the Gretel Metastore please visit your project in our Console or take a\n",
       "look at the full field metadata by using our gretel-client or REST API.\n",
       "\n",
       "***\n"
      ],
      "text/plain": [
       "<IPython.core.display.Markdown object>"
      ]
     },
     "metadata": {},
     "output_type": "display_data"
    },
    {
     "data": {
      "application/vnd.jupyter.widget-view+json": {
       "model_id": "0fb5ada5d7254c509c7d5d024a97027f",
       "version_major": 2,
       "version_minor": 0
      },
      "text/plain": [
       "VBox(children=(HBox(children=(FloatSlider(value=80.0, description='Max Unique %', step=1.0, style=SliderStyle(…"
      ]
     },
     "metadata": {},
     "output_type": "display_data"
    },
    {
     "data": {
      "application/vnd.jupyter.widget-view+json": {
       "model_id": "95effa6dc92342e38c6710ac4680ee2f",
       "version_major": 2,
       "version_minor": 0
      },
      "text/plain": [
       "Output()"
      ]
     },
     "metadata": {},
     "output_type": "display_data"
    }
   ],
   "source": [
    "data = FieldFilter()\n",
    "_start_field_filtering(field_meta, records, data)"
   ]
  },
  {
   "cell_type": "code",
   "execution_count": 4,
   "metadata": {},
   "outputs": [],
   "source": [
    "target_fields = data.export_fields()"
   ]
  },
  {
   "cell_type": "code",
   "execution_count": 5,
   "metadata": {},
   "outputs": [
    {
     "data": {
      "text/plain": [
       "['payload.service_uploaded',\n",
       " 'payload.service_transport',\n",
       " 'payload.service_handler',\n",
       " 'payload.device_urn',\n",
       " 'payload.device_class',\n",
       " 'payload.device',\n",
       " 'origin',\n",
       " 'payload.location',\n",
       " 'payload.loc_olc',\n",
       " 'payload.loc_lon',\n",
       " 'payload.loc_lat',\n",
       " 'payload.when_captured',\n",
       " 'payload.ip_country_name',\n",
       " 'payload.ip_country_code',\n",
       " 'payload.ip_address',\n",
       " 'payload.device_sn',\n",
       " 'payload.ip_subdivision',\n",
       " 'payload.ip_city',\n",
       " 'payload.loc_alt']"
      ]
     },
     "execution_count": 5,
     "metadata": {},
     "output_type": "execute_result"
    }
   ],
   "source": [
    "target_fields"
   ]
  }
 ],
 "metadata": {
  "kernelspec": {
   "display_name": "Python 3",
   "language": "python",
   "name": "python3"
  },
  "language_info": {
   "codemirror_mode": {
    "name": "ipython",
    "version": 3
   },
   "file_extension": ".py",
   "mimetype": "text/x-python",
   "name": "python",
   "nbconvert_exporter": "python",
   "pygments_lexer": "ipython3",
   "version": "3.7.5"
  }
 },
 "nbformat": 4,
 "nbformat_minor": 4
}
