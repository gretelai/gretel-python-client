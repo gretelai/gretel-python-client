{
 "cells": [
  {
   "cell_type": "markdown",
   "metadata": {},
   "source": [
    "# Gretel Transformers Walkthrough\n",
    "\n",
    "Welcome to the Gretel Transformers walkthrough! In this tutorial we will take you through the process of creating a data pipeline to apply a variety of transformations to your data.\n",
    "\n",
    "This tutorial assumes you have already uploaded data to Gretel.\n",
    "\n",
    "The transformers in this example work on entity labels only. We have chosen a subset of labels we see often in data.\n",
    "\n",
    "If you would like to build field-level transforms, please look through our blueprints directory (in the top level of the repository) for examples."
   ]
  },
  {
   "cell_type": "code",
   "execution_count": null,
   "metadata": {
    "tags": [
     "parameters"
    ]
   },
   "outputs": [],
   "source": [
    "import getpass\n",
    "import os\n",
    "\n",
    "gretel_uri = os.getenv(\"GRETEL_URI\") or getpass.getpass(\"Your Gretel URI\")"
   ]
  },
  {
   "cell_type": "markdown",
   "metadata": {},
   "source": [
    "## Create a Gretel Project Instance\n",
    "\n",
    "In the code below, we will utilize the gretel-client to create an instance of a project that will be used to syntesize data from. "
   ]
  },
  {
   "cell_type": "code",
   "execution_count": 2,
   "metadata": {
    "cell_id": "gretel_synthetics_deps"
   },
   "outputs": [
    {
     "name": "stdout",
     "output_type": "stream",
     "text": [
      "\u001b[31mERROR: Could not find a version that satisfies the requirement gretel-client==0.7.0.rc3 (from versions: 0.5.0, 0.5.1, 0.6.0, 0.7.0rc1, 0.7.0rc2)\u001b[0m\r\n",
      "\u001b[31mERROR: No matching distribution found for gretel-client==0.7.0.rc3\u001b[0m\r\n"
     ]
    }
   ],
   "source": [
    "%%capture\n",
    "!pip install \"gretel-client==0.7.0.rc3\" --upgrade"
   ]
  },
  {
   "cell_type": "code",
   "execution_count": null,
   "metadata": {
    "cell_id": "gretel_synthetics_boilerplate"
   },
   "outputs": [],
   "source": [
    "# Load your Gretel project into the Python Client. Be sure to have your Gretel Project URI!\n",
    "\n",
    "from gretel_client import project_from_uri\n",
    "\n",
    "project = project_from_uri(gretel_uri)"
   ]
  },
  {
   "cell_type": "code",
   "execution_count": null,
   "metadata": {},
   "outputs": [],
   "source": [
    "# We can see how many records we've ingested and how many fields we've discovered, just to show the\n",
    "# project is active.\n",
    "print(f'Total Records Received: {project.record_count}')\n",
    "print(f'Total Fields Discovered: {project.field_count}')\n",
    "\n",
    "print(\"\")\n",
    "print('Previewing project dataframe')\n",
    "project.head(5)"
   ]
  },
  {
   "cell_type": "markdown",
   "metadata": {},
   "source": [
    "## Sample Entity Transformations\n",
    "\n",
    "Below we build a series of entity specific transformers.\n"
   ]
  },
  {
   "cell_type": "code",
   "execution_count": null,
   "metadata": {},
   "outputs": [],
   "source": [
    "from gretel_client.transformers import (\n",
    "    DataPath,\n",
    "    DataTransformPipeline,\n",
    "    BucketCreationParams,\n",
    "    BucketConfig,\n",
    "    RedactWithCharConfig,\n",
    "    RedactWithLabelConfig,\n",
    "    FakeConstantConfig,\n",
    "    SecureHashConfig,\n",
    "    StringMask,\n",
    "    bucket_creation_params_to_list\n",
    ")\n",
    "\n",
    "# let's mask email addresses, by only keeping the first few chars\n",
    "# this will automatically find emails in any field based on entity labeling\n",
    "email_mask = StringMask(start_pos=3)\n",
    "email_transformer = [RedactWithCharConfig(labels=[\"email_address\"], mask=[email_mask])]\n",
    "\n",
    "# let's mask the last 2 digits of zip codes\n",
    "zip_mask = StringMask(start_pos=-2)\n",
    "zip_transformer = [RedactWithCharConfig(labels=[\"us_zip_code\"], mask=[zip_mask])]\n",
    "\n",
    "# token redactor\n",
    "# find any sensitive programming tokens that might exist and hash them\n",
    "token_labels = [\"generic_key\", \"slack_secrets\", \"jwt\", \"twilio_data\", \"square_api_key\", \"stripe_api_key\"]\n",
    "token_transformer = [SecureHashConfig(labels=token_labels, secret=\"hash_enc_key\")]\n",
    "\n",
    "# let's replace phone numbers with totally fake, but consistent ones\n",
    "phone_transformer = [FakeConstantConfig(labels=[\"phone_number\"], seed=1234, fake_method=\"phone_number\")]\n",
    "\n",
    "# aggressively mask all locations\n",
    "location_transformer = [RedactWithLabelConfig(labels=[\"location\"])]\n",
    "\n",
    "# let's bucket latitudes and longitudes into less precise places\n",
    "lat_lon_boundaries = BucketCreationParams(-180.0, 180.0, 0.5)\n",
    "buckets = bucket_creation_params_to_list(lat_lon_boundaries)\n",
    "lat_lon_transformer = [BucketConfig(buckets=buckets, labels=[\"latitude\", \"longitude\"])]\n",
    "\n",
    "# since we are only working on automatic transforms based on labels\n",
    "# they can all go into one datapath\n",
    "\n",
    "all_transformers = email_transformer + zip_transformer + token_transformer + phone_transformer + location_transformer + lat_lon_transformer\n",
    "data_path = [\n",
    "    DataPath(input=\"*\", xforms=all_transformers)\n",
    "]\n",
    "\n",
    "pipeline = DataTransformPipeline(data_paths=data_path)"
   ]
  },
  {
   "cell_type": "markdown",
   "metadata": {},
   "source": [
    "## Transform some sample records from your Gretel Project\n",
    "\n",
    "Now we can create our data pipeline.  We will run some sample records through it.\n"
   ]
  },
  {
   "cell_type": "code",
   "execution_count": null,
   "metadata": {},
   "outputs": [],
   "source": [
    "# Sample records from your project\n",
    "\n",
    "records = project.sample()"
   ]
  },
  {
   "cell_type": "code",
   "execution_count": null,
   "metadata": {},
   "outputs": [],
   "source": [
    "# Those same records transformed\n",
    "\n",
    "transformed_records = []\n",
    "for rec in records:\n",
    "    transformed_records.append(pipeline.transform_record(rec))"
   ]
  },
  {
   "cell_type": "code",
   "execution_count": null,
   "metadata": {
    "scrolled": false
   },
   "outputs": [],
   "source": [
    "from gretel_client.demo_helpers import show_record_diff\n",
    "\n",
    "# Print out Git-style diffs between source and transformed records\n",
    "for original, transformed in zip(records, transformed_records):\n",
    "    show_record_diff(original[\"data\"], transformed[\"data\"])\n",
    "    input()"
   ]
  },
  {
   "cell_type": "code",
   "execution_count": null,
   "metadata": {},
   "outputs": [],
   "source": []
  }
 ],
 "metadata": {
  "kernelspec": {
   "display_name": "Python 3",
   "language": "python",
   "name": "python3"
  },
  "language_info": {
   "codemirror_mode": {
    "name": "ipython",
    "version": 3
   },
   "file_extension": ".py",
   "mimetype": "text/x-python",
   "name": "python",
   "nbconvert_exporter": "python",
   "pygments_lexer": "ipython3",
   "version": "3.7.5"
  }
 },
 "nbformat": 4,
 "nbformat_minor": 4
}
