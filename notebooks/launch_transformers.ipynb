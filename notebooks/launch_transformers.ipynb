{
 "cells": [
  {
   "cell_type": "markdown",
   "metadata": {},
   "source": [
    "# Gretel Transformers Walkthrough\n",
    "\n",
    "Welcome to the Gretel Transformers walkthrough! In this tutorial we will take you through the process of creating a data pipeline to apply a variety of transformations to your data.\n",
    "\n",
    "This tutorial assumes you have already uploaded data to a [Gretel Project](https://console.gretel.cloud).\n",
    "\n",
    "The transformers in this example work on entity labels only. We have chosen a subset of labels we see often in data.\n",
    "\n",
    "If you would like to build field-level transforms or see more advanced use cases please look through our [blueprints directory](https://github.com/gretelai/gretel-python-client/tree/master/blueprints) for more examples.\n",
    "\n",
    "For a more exhaustive list of possible transformations, please reference our [documentation](https://gretel-client.readthedocs.io/en/latest/transformers/api_ref.html#module-reference-transformers)."
   ]
  },
  {
   "cell_type": "code",
   "execution_count": null,
   "metadata": {
    "tags": [
     "parameters"
    ]
   },
   "outputs": [],
   "source": [
    "# NOTE: Run this cell and copy your Gretel URI into the text box below\n",
    "\n",
    "import getpass\n",
    "import os\n",
    "\n",
    "gretel_uri = os.getenv(\"GRETEL_URI\") or getpass.getpass(\"Your Gretel URI\")"
   ]
  },
  {
   "cell_type": "markdown",
   "metadata": {},
   "source": [
    "## Create a Gretel Project Instance\n",
    "\n",
    "In the code below, we will utilize the gretel-client to create an instance of a Project that we can use to iterate\n",
    "labeled records from."
   ]
  },
  {
   "cell_type": "code",
   "execution_count": null,
   "metadata": {
    "cell_id": "gretel_synthetics_deps"
   },
   "outputs": [],
   "source": [
    "%%capture\n",
    "!pip install gretel-client --upgrade"
   ]
  },
  {
   "cell_type": "code",
   "execution_count": null,
   "metadata": {
    "cell_id": "gretel_synthetics_boilerplate"
   },
   "outputs": [],
   "source": [
    "# Load your Gretel project into the Python Client. Be sure to have your Gretel Project URI!\n",
    "\n",
    "from gretel_client import project_from_uri\n",
    "\n",
    "project = project_from_uri(gretel_uri)"
   ]
  },
  {
   "cell_type": "code",
   "execution_count": null,
   "metadata": {},
   "outputs": [],
   "source": [
    "# Example JSON record and Gretel Metadata from the Project stream\n",
    "\n",
    "# Components of a record:\n",
    "# - id: A unique ID that represents a position in the stream the record resides\n",
    "# - data: A flattened version of the raw record that was received\n",
    "# - metadata: A dictionary of metadata, keyed by field name\n",
    "\n",
    "project.sample()[0]"
   ]
  },
  {
   "cell_type": "markdown",
   "metadata": {},
   "source": [
    "## Sample Entity Transformations\n",
    "\n",
    "Below we build a series of entity specific transformers.\n"
   ]
  },
  {
   "cell_type": "code",
   "execution_count": null,
   "metadata": {},
   "outputs": [],
   "source": [
    "from gretel_client.transformers import (\n",
    "    DataPath,\n",
    "    DataTransformPipeline,\n",
    "    Score,\n",
    "    BucketCreationParams,\n",
    "    BucketConfig,\n",
    "    RedactWithCharConfig,\n",
    "    RedactWithLabelConfig,\n",
    "    FakeConstantConfig,\n",
    "    SecureHashConfig,\n",
    "    StringMask,\n",
    "    bucket_creation_params_to_list\n",
    ")\n",
    "\n",
    "# let's mask email addresses, by only keeping the first few chars\n",
    "# this will automatically find emails in any field based on entity labeling\n",
    "email_mask = StringMask(start_pos=3)\n",
    "email_transformer = [RedactWithCharConfig(labels=[\"email_address\"], minimum_score=Score.MED, mask=[email_mask])]\n",
    "\n",
    "ip_mask = StringMask(start_pos=-6)\n",
    "ip_transformer = [RedactWithCharConfig(labels=[\"ip_address\"], minimum_score=Score.MED, mask=[ip_mask])]\n",
    "\n",
    "# let's mask the last 2 digits of zip codes\n",
    "zip_mask = StringMask(start_pos=-2)\n",
    "zip_transformer = [RedactWithCharConfig(labels=[\"us_zip_code\"], minimum_score=Score.MED, mask=[zip_mask])]\n",
    "\n",
    "# token redactor\n",
    "# find any sensitive programming tokens that might exist and hash them\n",
    "token_labels = [\"generic_key\", \"slack_secrets\", \"jwt\", \"twilio_data\", \"square_api_key\", \"stripe_api_key\"]\n",
    "token_transformer = [SecureHashConfig(labels=token_labels, minimum_score=Score.MED, secret=\"hash_enc_key\")]\n",
    "\n",
    "# let's replace phone numbers with totally fake, but consistent ones\n",
    "phone_transformer = [FakeConstantConfig(labels=[\"phone_number\"], minimum_score=Score.MED, seed=1234, fake_method=\"phone_number\")]\n",
    "\n",
    "# let's replace person names with totally fake, but consistent ones\n",
    "person_transformer = [FakeConstantConfig(labels=[\"person_name\"], minimum_score=Score.MED, seed=1234, fake_method=\"person_name\")]\n",
    "\n",
    "# aggressively mask all locations\n",
    "location_transformer = [RedactWithLabelConfig(labels=[\"location\"], minimum_score=Score.MED)]\n",
    "\n",
    "# let's bucket latitudes and longitudes into less precise places\n",
    "lat_lon_boundaries = BucketCreationParams(-180.0, 180.0, 0.5)\n",
    "buckets = bucket_creation_params_to_list(lat_lon_boundaries)\n",
    "lat_lon_transformer = [BucketConfig(buckets=buckets, labels=[\"latitude\", \"longitude\"], minimum_score=Score.MED)]\n",
    "\n",
    "# since we are only working on automatic transforms based on labels\n",
    "# they can all go into one datapath\n",
    "\n",
    "all_transformers = email_transformer + ip_transformer + zip_transformer + token_transformer + phone_transformer + person_transformer + location_transformer + lat_lon_transformer\n",
    "data_path = [\n",
    "    DataPath(input=\"*\", xforms=all_transformers)\n",
    "]\n",
    "\n",
    "pipeline = DataTransformPipeline(data_paths=data_path)"
   ]
  },
  {
   "cell_type": "markdown",
   "metadata": {},
   "source": [
    "## Transform some sample records from your Gretel Project\n",
    "\n",
    "Now we can create our data pipeline.  We will run some sample records through it.\n"
   ]
  },
  {
   "cell_type": "code",
   "execution_count": null,
   "metadata": {},
   "outputs": [],
   "source": [
    "# Sample records from your project\n",
    "\n",
    "records = project.sample()"
   ]
  },
  {
   "cell_type": "code",
   "execution_count": null,
   "metadata": {},
   "outputs": [],
   "source": [
    "# Those same records transformed\n",
    "\n",
    "transformed_records = []\n",
    "for rec in records:\n",
    "    transformed_records.append(pipeline.transform_record(rec))"
   ]
  },
  {
   "cell_type": "code",
   "execution_count": null,
   "metadata": {
    "scrolled": false
   },
   "outputs": [],
   "source": [
    "from gretel_client.demo_helpers import show_record_diff\n",
    "\n",
    "# Print out Git-style diffs between source and transformed records\n",
    "for original, transformed in zip(records, transformed_records):\n",
    "    show_record_diff(original[\"data\"], transformed[\"data\"])\n",
    "    input(\"Press enter / return to go to the next record\")"
   ]
  },
  {
   "cell_type": "code",
   "execution_count": null,
   "metadata": {},
   "outputs": [],
   "source": [
    "# If you have data constantly ingesting to the Gretel API, you can consume the labeled\n",
    "# data and automatically apply your transforms like so:\n",
    "#\n",
    "# NOTE: If you do not have data ingesting currently, this operation will block until records are received\n",
    "#\n",
    "for record in project.iter_records():\n",
    "    # from here you may route your transformed records to anywhere!\n",
    "    transformed = pipeline.transform_record(record)\n",
    "    print(transformed[\"record\"])"
   ]
  }
 ],
 "metadata": {
  "kernelspec": {
   "display_name": "Python 3",
   "language": "python",
   "name": "python3"
  },
  "language_info": {
   "codemirror_mode": {
    "name": "ipython",
    "version": 3
   },
   "file_extension": ".py",
   "mimetype": "text/x-python",
   "name": "python",
   "nbconvert_exporter": "python",
   "pygments_lexer": "ipython3",
   "version": "3.7.5"
  }
 },
 "nbformat": 4,
 "nbformat_minor": 4
}
