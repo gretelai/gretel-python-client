{
  "nbformat": 4,
  "nbformat_minor": 0,
  "metadata": {
    "colab": {
      "name": "simple_constant_fakes.ipynb",
      "provenance": [],
      "collapsed_sections": []
    },
    "kernelspec": {
      "name": "python3",
      "display_name": "Python 3"
    }
  },
  "cells": [
    {
      "cell_type": "markdown",
      "metadata": {
        "id": "nrb_yiKW1GjF"
      },
      "source": [
        "## Overview\n",
        "\n",
        "Using Gretel's Transformation tools we walk-through an example of replacing a field value with a fake entity using the original value. These transformations are based on the source value, and transform values deterministically without requiring a lookup table or database. While this demonstration runs as a notebook, this same pipeline can be deployed into a variety of different data stacks.\n",
        "\n",
        "A seed value is required for the transformers. Using the same seed will help ensure that you get the same fake value for any given input value."
      ]
    },
    {
      "cell_type": "code",
      "metadata": {
        "id": "EVncB88W06xt"
      },
      "source": [
        "!pip install -Uqq gretel-client\n"
      ],
      "execution_count": null,
      "outputs": []
    },
    {
      "cell_type": "code",
      "metadata": {
        "id": "n4j8lfiH2LDg"
      },
      "source": [
        "from gretel_client.transformers import DataPath, DataTransformPipeline\n",
        "from gretel_client.transformers import FakeConstantConfig\n",
        "\n",
        "SEED = 8675309\n",
        "\n",
        "SOURCE = [\n",
        "    {\n",
        "        \"activity\": \"Wedding Crasher\",\n",
        "        \"guest\": \"Seamus O'Toole\",\n",
        "        \"location\": \"Washington DC\",\n",
        "    },\n",
        "    {\n",
        "        \"activity\": \"Wedding Crasher\",\n",
        "        \"guest\": \"Bobby O'Shea\",\n",
        "        \"location\": \"Baltimore\"\n",
        "    },\n",
        "]\n",
        "\n",
        "# Deterministically replace field values with new, fake names and cities.\n",
        "guest_xf = FakeConstantConfig(seed=SEED, fake_method=\"name\")\n",
        "location_xf = FakeConstantConfig(seed=SEED, fake_method=\"city\")\n",
        "\n",
        "paths = [\n",
        "    DataPath(input=\"guest\", xforms=[guest_xf]),\n",
        "    DataPath(input=\"location\", xforms=[location_xf]),\n",
        "    DataPath(input=\"*\"),\n",
        "]\n",
        "\n",
        "pipe = DataTransformPipeline(paths)\n",
        "\n",
        "results = []\n",
        "\n",
        "for record in SOURCE:\n",
        "    results.append(pipe.transform_record(record))\n",
        "\n",
        "assert results == [\n",
        "    {\n",
        "        \"activity\": \"Wedding Crasher\",\n",
        "        \"guest\": \"Sean Johnson\",\n",
        "        \"location\": \"Smithtown\"\n",
        "    },\n",
        "    {\n",
        "        \"activity\": \"Wedding Crasher\",\n",
        "        \"guest\": \"Christopher Obrien\",\n",
        "        \"location\": \"Katiebury\",\n",
        "    },\n",
        "]\n",
        "\n",
        "print(results)"
      ],
      "execution_count": null,
      "outputs": []
    }
  ]
}