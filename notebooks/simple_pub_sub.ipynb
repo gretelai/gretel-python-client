{
  "nbformat": 4,
  "nbformat_minor": 0,
  "metadata": {
    "colab": {
      "name": "simple_pub_sub.ipynb",
      "provenance": [],
      "collapsed_sections": []
    },
    "kernelspec": {
      "name": "python3",
      "display_name": "Python 3"
    }
  },
  "cells": [
    {
      "cell_type": "markdown",
      "metadata": {
        "id": "FTUY8VN85RP8"
      },
      "source": [
        "# Overview\n",
        "Use both records and stream API endpoints to write / read from\n",
        "a Gretel Project in near real-time. This notebook will create\n",
        "a temporary project and send fake records and continuously\n",
        "consume the labeled records.\n",
        "\n"
      ]
    },
    {
      "cell_type": "code",
      "metadata": {
        "id": "0x42h-gJ5NRf"
      },
      "source": [
        "!pip install -Uqq gretel-client"
      ],
      "execution_count": 1,
      "outputs": []
    },
    {
      "cell_type": "code",
      "metadata": {
        "id": "x7PWkGrF8VY3"
      },
      "source": [
        "# Get an API key to connect to the Gretel APIs \n",
        "# from https://console.gretel.cloud\n",
        "\n",
        "from gretel_client import get_cloud_client\n",
        "\n",
        "client = get_cloud_client(prefix=\"api\", api_key=\"prompt\")"
      ],
      "execution_count": null,
      "outputs": []
    },
    {
      "cell_type": "code",
      "metadata": {
        "id": "Q0DW7JuL5LvT"
      },
      "source": [
        "import sys\n",
        "import threading\n",
        "import time\n",
        "\n",
        "from faker import Faker\n",
        "\n",
        "from gretel_client.client import temporary_project, Client\n",
        "from gretel_client.projects import Project\n",
        "\n",
        "\n",
        "def subscriber(project: Project):\n",
        "    # By default, ``iter_records()`` will block waiting for\n",
        "    # new labeled records to be ready for consumption. It will\n",
        "    # fetch in batches, so if there are already records in the\n",
        "    # stream, we will immediately yield the most recent 200 records.\n",
        "    for rec in project.iter_records():\n",
        "        yield rec\n",
        "\n",
        "\n",
        "def publish(project: Project, event: threading.Event):\n",
        "    fake = Faker()\n",
        "    while not event.is_set():\n",
        "        rec = {\n",
        "            \"name\": fake.name(),\n",
        "            \"phone\": fake.phone_number()\n",
        "        }\n",
        "        project.send(rec)\n",
        "        time.sleep(1)\n",
        "\n",
        "\n",
        "def start(client: Client):\n",
        "    with temporary_project(client) as project:\n",
        "        publish_event = threading.Event()\n",
        "        publish_thread = threading.Thread(target=publish, args=(project, publish_event))\n",
        "        publish_thread.start()\n",
        "        try:\n",
        "            for rec in subscriber(project):\n",
        "                print(rec)\n",
        "        except KeyboardInterrupt:\n",
        "            print(\"Shutting down...\")\n",
        "        finally:\n",
        "            publish_event.set()\n",
        "            publish_thread.join()\n",
        "\n",
        "\n",
        "start(client)"
      ],
      "execution_count": null,
      "outputs": []
    }
  ]
}